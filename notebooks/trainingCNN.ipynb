{
 "cells": [
  {
   "cell_type": "markdown",
   "metadata": {},
   "source": [
    "Entrenamiento modelo"
   ]
  },
  {
   "cell_type": "code",
   "execution_count": null,
   "metadata": {},
   "outputs": [
    {
     "name": "stdout",
     "output_type": "stream",
     "text": [
      "Clases: ['Bald', 'NotBald']\n"
     ]
    },
    {
     "name": "stderr",
     "output_type": "stream",
     "text": [
      "c:\\Users\\capor\\.conda\\envs\\torch_env\\lib\\site-packages\\torchvision\\models\\_utils.py:208: UserWarning: The parameter 'pretrained' is deprecated since 0.13 and may be removed in the future, please use 'weights' instead.\n",
      "  warnings.warn(\n",
      "c:\\Users\\capor\\.conda\\envs\\torch_env\\lib\\site-packages\\torchvision\\models\\_utils.py:223: UserWarning: Arguments other than a weight enum or `None` for 'weights' are deprecated since 0.13 and may be removed in the future. The current behavior is equivalent to passing `weights=ResNet50_Weights.IMAGENET1K_V1`. You can also use `weights=ResNet50_Weights.DEFAULT` to get the most up-to-date weights.\n",
      "  warnings.warn(msg)\n"
     ]
    },
    {
     "name": "stdout",
     "output_type": "stream",
     "text": [
      "Epoch 1/6\n",
      "Train Loss: 0.2578, Accuracy: 88.86%\n",
      "Val Loss: 0.1897, Accuracy: 92.47%\n",
      "Epoch 2/6\n",
      "Train Loss: 0.1927, Accuracy: 92.49%\n",
      "Val Loss: 0.1476, Accuracy: 93.87%\n",
      "Epoch 3/6\n",
      "Train Loss: 0.1796, Accuracy: 93.08%\n",
      "Val Loss: 0.1565, Accuracy: 93.80%\n",
      "Epoch 4/6\n",
      "Train Loss: 0.1866, Accuracy: 92.64%\n",
      "Val Loss: 0.1428, Accuracy: 94.10%\n",
      "Epoch 5/6\n",
      "Train Loss: 0.1922, Accuracy: 92.55%\n",
      "Val Loss: 0.1759, Accuracy: 92.77%\n",
      "Epoch 6/6\n",
      "Train Loss: 0.1809, Accuracy: 92.66%\n",
      "Val Loss: 0.1312, Accuracy: 94.54%\n",
      "Test Accuracy: 94.60%\n"
     ]
    }
   ],
   "source": [
    "import torch\n",
    "import torch.nn as nn\n",
    "import torch.optim as optim\n",
    "import torchvision.transforms as transforms\n",
    "import torchvision.datasets as datasets\n",
    "import torchvision.models as models\n",
    "from torch.utils.data import DataLoader, Subset\n",
    "import numpy as np\n",
    "\n",
    "# Configuración del dispositivo\n",
    "device = torch.device(\"cuda\" if torch.cuda.is_available() else \"cpu\")\n",
    "\n",
    "# Transformaciones para los datos\n",
    "data_transforms = {\n",
    "    'Train': transforms.Compose([\n",
    "        transforms.Resize((224, 224)),\n",
    "        transforms.RandomHorizontalFlip(),\n",
    "        transforms.ToTensor(),\n",
    "        transforms.Normalize([0.485, 0.456, 0.406], [0.229, 0.224, 0.225])\n",
    "    ]),\n",
    "    'Validation': transforms.Compose([\n",
    "        transforms.Resize((224, 224)),\n",
    "        transforms.ToTensor(),\n",
    "        transforms.Normalize([0.485, 0.456, 0.406], [0.229, 0.224, 0.225])\n",
    "    ]),\n",
    "    'Test': transforms.Compose([\n",
    "        transforms.Resize((224, 224)),\n",
    "        transforms.ToTensor(),\n",
    "        transforms.Normalize([0.485, 0.456, 0.406], [0.229, 0.224, 0.225])\n",
    "    ])\n",
    "}\n",
    "\n",
    "# Carga de datos\n",
    "data_dir = r\"C:\\Users\\capor\\Downloads\\calvos\\Dataset\"\n",
    "datasets_dict = {x: datasets.ImageFolder(root=f'{data_dir}/{x}', transform=data_transforms[x]) for x in ['Train', 'Validation', 'Test']}\n",
    "\n",
    "# Función para reducir la clase mayoritaria en un 96%. Así hago el shuffle y me aseguro que no siga patrones dentro de las imágenes\n",
    "def balance_dataset(dataset, reduction_ratio=0.96):\n",
    "    indices_bald = [i for i, (_, label) in enumerate(dataset) if label == 0]  # Clase Bald\n",
    "    indices_notbald = [i for i, (_, label) in enumerate(dataset) if label == 1]  # Clase NotBald\n",
    "    \n",
    "    reduced_notbald_size = int(len(indices_notbald) * (1 - reduction_ratio))\n",
    "    np.random.seed(42)  # Para reproducibilidad\n",
    "    selected_notbald = np.random.choice(indices_notbald, reduced_notbald_size, replace=False)\n",
    "    \n",
    "    balanced_indices = indices_bald + list(selected_notbald)\n",
    "    np.random.shuffle(balanced_indices)\n",
    "    \n",
    "    return Subset(dataset, balanced_indices)\n",
    "\n",
    "# Reducir la clase NotBald en Train, Validation y Test\n",
    "datasets_dict['Train'] = balance_dataset(datasets_dict['Train'])\n",
    "datasets_dict['Validation'] = balance_dataset(datasets_dict['Validation'])\n",
    "datasets_dict['Test'] = balance_dataset(datasets_dict['Test'])\n",
    "\n",
    "# Crear DataLoaders\n",
    "dataloaders = {x: DataLoader(datasets_dict[x], batch_size=32, shuffle=True, num_workers=4) for x in ['Train', 'Validation', 'Test']}\n",
    "\n",
    "# Clases en el dataset\n",
    "class_names = datasets_dict['Train'].dataset.classes\n",
    "print(f'Clases: {class_names}')\n",
    "\n",
    "# Cargar modelo preentrenado\n",
    "model = models.resnet50(pretrained=True)\n",
    "num_ftrs = model.fc.in_features\n",
    "model.fc = nn.Linear(num_ftrs, 2)  # Clasificación binaria\n",
    "model = model.to(device)\n",
    "\n",
    "criterion = nn.CrossEntropyLoss()\n",
    "optimizer = optim.Adam(model.fc.parameters(), lr=0.001)\n",
    "\n",
    "# Función de entrenamiento\n",
    "def train_model(model, dataloaders, criterion, optimizer, num_epochs=10):\n",
    "    for epoch in range(num_epochs):\n",
    "        print(f'Epoch {epoch+1}/{num_epochs}')\n",
    "        \n",
    "        # Entrenamiento\n",
    "        model.train()\n",
    "        running_loss = 0.0\n",
    "        correct = 0\n",
    "        total = 0\n",
    "        for inputs, labels in dataloaders['Train']:\n",
    "            inputs, labels = inputs.to(device), labels.to(device)\n",
    "            optimizer.zero_grad()\n",
    "            outputs = model(inputs)\n",
    "            loss = criterion(outputs, labels)\n",
    "            loss.backward()\n",
    "            optimizer.step()\n",
    "            running_loss += loss.item()\n",
    "            _, predicted = torch.max(outputs, 1)\n",
    "            total += labels.size(0)\n",
    "            correct += (predicted == labels).sum().item()\n",
    "        print(f'Train Loss: {running_loss/len(dataloaders[\"Train\"]):.4f}, Accuracy: {100 * correct/total:.2f}%')\n",
    "        \n",
    "        # Validación\n",
    "        model.eval()\n",
    "        val_loss = 0.0\n",
    "        correct = 0\n",
    "        total = 0\n",
    "        with torch.no_grad():\n",
    "            for inputs, labels in dataloaders['Validation']:\n",
    "                inputs, labels = inputs.to(device), labels.to(device)\n",
    "                outputs = model(inputs)\n",
    "                loss = criterion(outputs, labels)\n",
    "                val_loss += loss.item()\n",
    "                _, predicted = torch.max(outputs, 1)\n",
    "                total += labels.size(0)\n",
    "                correct += (predicted == labels).sum().item()\n",
    "        print(f'Val Loss: {val_loss/len(dataloaders[\"Validation\"]):.4f}, Accuracy: {100 * correct/total:.2f}%')\n",
    "    \n",
    "    return model\n",
    "\n",
    "# Entrenar modelo\n",
    "model = train_model(model, dataloaders, criterion, optimizer, num_epochs=6)\n",
    "\n",
    "# Evaluación\n",
    "def evaluate_model(model, dataloader):\n",
    "    model.eval()\n",
    "    correct = 0\n",
    "    total = 0\n",
    "    with torch.no_grad():\n",
    "        for inputs, labels in dataloader:\n",
    "            inputs, labels = inputs.to(device), labels.to(device)\n",
    "            outputs = model(inputs)\n",
    "            _, predicted = torch.max(outputs, 1)\n",
    "            total += labels.size(0)\n",
    "            correct += (predicted == labels).sum().item()\n",
    "    print(f'Test Accuracy: {100 * correct/total:.2f}%')\n",
    "\n",
    "evaluate_model(model, dataloaders['Test'])\n"
   ]
  },
  {
   "cell_type": "code",
   "execution_count": 3,
   "metadata": {},
   "outputs": [],
   "source": [
    "torch.save(model.state_dict(), 'modelo_calvicie2.pth')"
   ]
  },
  {
   "cell_type": "code",
   "execution_count": 35,
   "metadata": {},
   "outputs": [
    {
     "name": "stdout",
     "output_type": "stream",
     "text": [
      "Modelo guardado en C:\\Users\\capor\\Downloads\\modelo_calvicie.pth\n"
     ]
    }
   ],
   "source": [
    "ruta_guardado = r\"C:\\Users\\capor\\Downloads\\modelo_calvicie.pth\"\n",
    "torch.save(model.state_dict(), ruta_guardado)\n",
    "print(f\"Modelo guardado en {ruta_guardado}\")\n"
   ]
  },
  {
   "cell_type": "code",
   "execution_count": null,
   "metadata": {},
   "outputs": [
    {
     "name": "stdout",
     "output_type": "stream",
     "text": [
      "Predicción: Not Bald\n"
     ]
    },
    {
     "name": "stderr",
     "output_type": "stream",
     "text": [
      "C:\\Users\\capor\\AppData\\Local\\Temp\\ipykernel_6672\\1650679462.py:12: FutureWarning: You are using `torch.load` with `weights_only=False` (the current default value), which uses the default pickle module implicitly. It is possible to construct malicious pickle data which will execute arbitrary code during unpickling (See https://github.com/pytorch/pytorch/blob/main/SECURITY.md#untrusted-models for more details). In a future release, the default value for `weights_only` will be flipped to `True`. This limits the functions that could be executed during unpickling. Arbitrary objects will no longer be allowed to be loaded via this mode unless they are explicitly allowlisted by the user via `torch.serialization.add_safe_globals`. We recommend you start setting `weights_only=True` for any use case where you don't have full control of the loaded file. Please open an issue on GitHub for any issues related to this experimental feature.\n",
      "  model.load_state_dict(torch.load(r\"C:\\Users\\capor\\Downloads\\modelo_calvicie2.pth\", map_location=device))\n"
     ]
    }
   ],
   "source": [
    "import torch\n",
    "import torchvision.transforms as transforms\n",
    "import torchvision.models as models\n",
    "from PIL import Image\n",
    "import torch.nn as nn\n",
    "\n",
    "# Cargar el modelo entrenado\n",
    "device = torch.device(\"cpu\")  # Usar CPU explícitamente\n",
    "model = models.resnet50(pretrained=False)\n",
    "num_ftrs = model.fc.in_features\n",
    "model.fc = nn.Linear(num_ftrs, 2)  # Bald vs Not Bald\n",
    "model.load_state_dict(torch.load(r\"C:\\Users\\capor\\Downloads\\modelo_calvicie.pth\", map_location=device))\n",
    "model = model.to(device)\n",
    "model.eval()\n",
    "\n",
    "# Transformaciones de la imagen\n",
    "transform = transforms.Compose([\n",
    "    transforms.Resize((224, 224)),\n",
    "    transforms.ToTensor(),\n",
    "    transforms.Normalize([0.485, 0.456, 0.406], [0.229, 0.224, 0.225])\n",
    "])\n",
    "\n",
    "# Cargar la imagen de prueba para ver funcionamiento\n",
    "image = Image.open(r\"C:\\Users\\capor\\Downloads\\gettyimages-1404205960-612x612.jpg\")\n",
    "\n",
    "# Preprocesar la imagen\n",
    "image = transform(image).unsqueeze(0).to(device)\n",
    "\n",
    "# Hacer la predicción\n",
    "with torch.no_grad():\n",
    "    outputs = model(image)\n",
    "    _, predicted = torch.max(outputs, 1)\n",
    "    class_names = [\"Bald\", \"Not Bald\"]\n",
    "    result = class_names[predicted.item()]\n",
    "\n",
    "print(f\"Predicción: {result}\")"
   ]
  }
 ],
 "metadata": {
  "kernelspec": {
   "display_name": "torch_env",
   "language": "python",
   "name": "python3"
  },
  "language_info": {
   "codemirror_mode": {
    "name": "ipython",
    "version": 3
   },
   "file_extension": ".py",
   "mimetype": "text/x-python",
   "name": "python",
   "nbconvert_exporter": "python",
   "pygments_lexer": "ipython3",
   "version": "3.10.15"
  }
 },
 "nbformat": 4,
 "nbformat_minor": 2
}
